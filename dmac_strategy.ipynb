{
 "cells": [
  {
   "cell_type": "markdown",
   "metadata": {},
   "source": [
    "# DMAC Trading Strategy Algorithm"
   ]
  },
  {
   "cell_type": "markdown",
   "metadata": {},
   "source": [
    "## Import the Libraries and Create a DataFrame"
   ]
  },
  {
   "cell_type": "code",
   "execution_count": 3,
   "metadata": {},
   "outputs": [],
   "source": [
    "# Import the required libraries\n",
    "import numpy as np\n",
    "import pandas as pd\n",
    "import hvplot.pandas\n",
    "from pathlib import Path\n",
    "from datetime import date\n",
    "import yfinance as yf\n",
    "import os"
   ]
  },
  {
   "cell_type": "markdown",
   "metadata": {},
   "source": [
    "## Retrieve the Historical Stock Data"
   ]
  },
  {
   "cell_type": "code",
   "execution_count": 4,
   "metadata": {},
   "outputs": [],
   "source": [
    "# Set the Start and End Dates for Yahoo Finance API\n",
    "START = \"2015-01-01\"\n",
    "TODAY = date.today().strftime(\"%Y-%m-%d\")"
   ]
  },
  {
   "cell_type": "code",
   "execution_count": 7,
   "metadata": {},
   "outputs": [
    {
     "name": "stdout",
     "output_type": "stream",
     "text": [
      "[*********************100%***********************]  1 of 1 completed\n"
     ]
    },
    {
     "data": {
      "text/plain": [
       "Date\n",
       "2015-01-02     27.332500\n",
       "2015-01-05     26.562500\n",
       "2015-01-06     26.565001\n",
       "2015-01-07     26.937500\n",
       "2015-01-08     27.972500\n",
       "                 ...    \n",
       "2022-01-03    182.009995\n",
       "2022-01-04    179.699997\n",
       "2022-01-05    174.919998\n",
       "2022-01-06    172.000000\n",
       "2022-01-07    172.169998\n",
       "Name: Close, Length: 1768, dtype: float64"
      ]
     },
     "execution_count": 7,
     "metadata": {},
     "output_type": "execute_result"
    }
   ],
   "source": [
    "# Load_data function to retrieve historical information\n",
    "def load_data(ticker):\n",
    "  data = yf.download(ticker, START, TODAY)\n",
    "  #data.reset_index(inplace = True)\n",
    "  data = data[\"Close\"]\n",
    "  return data\n",
    "\n",
    "load_data(\"AAPL\")"
   ]
  },
  {
   "cell_type": "code",
   "execution_count": 8,
   "metadata": {},
   "outputs": [
    {
     "name": "stdout",
     "output_type": "stream",
     "text": [
      "[*********************100%***********************]  1 of 1 completed\n"
     ]
    },
    {
     "data": {
      "text/plain": [
       "Date\n",
       "2015-01-02     27.332500\n",
       "2015-01-05     26.562500\n",
       "2015-01-06     26.565001\n",
       "2015-01-07     26.937500\n",
       "2015-01-08     27.972500\n",
       "                 ...    \n",
       "2022-01-03    182.009995\n",
       "2022-01-04    179.699997\n",
       "2022-01-05    174.919998\n",
       "2022-01-06    172.000000\n",
       "2022-01-07    172.169998\n",
       "Name: Close, Length: 1768, dtype: float64"
      ]
     },
     "execution_count": 8,
     "metadata": {},
     "output_type": "execute_result"
    }
   ],
   "source": [
    "# Create Signals DF\n",
    "signals_df = load_data(\"AAPL\")\n",
    "signals_df"
   ]
  }
 ],
 "metadata": {
  "interpreter": {
   "hash": "ad9fb37fa15c2fac4885b853501abc8587965d08b8586f67468c92fe4e3567d7"
  },
  "kernelspec": {
   "display_name": "Python 3.7.10 64-bit ('dev': conda)",
   "language": "python",
   "name": "python3"
  },
  "language_info": {
   "codemirror_mode": {
    "name": "ipython",
    "version": 3
   },
   "file_extension": ".py",
   "mimetype": "text/x-python",
   "name": "python",
   "nbconvert_exporter": "python",
   "pygments_lexer": "ipython3",
   "version": "3.7.10"
  },
  "orig_nbformat": 4
 },
 "nbformat": 4,
 "nbformat_minor": 2
}
