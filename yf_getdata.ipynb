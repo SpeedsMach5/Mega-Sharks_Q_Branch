{
 "cells": [
  {
   "cell_type": "markdown",
   "metadata": {},
   "source": [
    "# Get Historical Stock Data From Yahoo Finance"
   ]
  },
  {
   "cell_type": "code",
   "execution_count": 13,
   "metadata": {},
   "outputs": [],
   "source": [
    "# Import Required Libraries\n",
    "#import streamlit as st\n",
    "from datetime import date\n",
    "import yfinance as yf\n",
    "#from fbprophet import Prophet\n",
    "#from fbprophet.plot import plot_plotly\n",
    "#from plotly import graph_objects as go\n",
    "import pandas as pd\n",
    "import os"
   ]
  },
  {
   "cell_type": "code",
   "execution_count": 14,
   "metadata": {},
   "outputs": [],
   "source": [
    "START = \"2015-01-01\"\n",
    "TODAY = date.today().strftime(\"%Y-%m-%d\")"
   ]
  },
  {
   "cell_type": "code",
   "execution_count": 40,
   "metadata": {},
   "outputs": [
    {
     "name": "stdout",
     "output_type": "stream",
     "text": [
      "[*********************100%***********************]  1 of 1 completed\n"
     ]
    },
    {
     "data": {
      "text/plain": [
       "Date\n",
       "2015-01-02     46.759998\n",
       "2015-01-05     46.330002\n",
       "2015-01-06     45.650002\n",
       "2015-01-07     46.230000\n",
       "2015-01-08     47.590000\n",
       "                 ...    \n",
       "2022-01-03    334.750000\n",
       "2022-01-04    329.010010\n",
       "2022-01-05    316.380005\n",
       "2022-01-06    313.880005\n",
       "2022-01-07    314.040009\n",
       "Name: Close, Length: 1768, dtype: float64"
      ]
     },
     "execution_count": 40,
     "metadata": {},
     "output_type": "execute_result"
    }
   ],
   "source": [
    "def load_data(ticker):\n",
    "  data = yf.download(ticker, START, TODAY)\n",
    "  #data.reset_index(inplace = True)\n",
    "  data = data[\"Close\"]\n",
    "  return data\n",
    "\n",
    "load_data(\"MSFT\")"
   ]
  }
 ],
 "metadata": {
  "interpreter": {
   "hash": "ad9fb37fa15c2fac4885b853501abc8587965d08b8586f67468c92fe4e3567d7"
  },
  "kernelspec": {
   "display_name": "Python 3.7.10 64-bit ('dev': conda)",
   "language": "python",
   "name": "python3"
  },
  "language_info": {
   "codemirror_mode": {
    "name": "ipython",
    "version": 3
   },
   "file_extension": ".py",
   "mimetype": "text/x-python",
   "name": "python",
   "nbconvert_exporter": "python",
   "pygments_lexer": "ipython3",
   "version": "3.7.10"
  },
  "orig_nbformat": 4
 },
 "nbformat": 4,
 "nbformat_minor": 2
}
